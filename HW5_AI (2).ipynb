{
  "nbformat": 4,
  "nbformat_minor": 0,
  "metadata": {
    "colab": {
      "provenance": []
    },
    "kernelspec": {
      "name": "python3",
      "display_name": "Python 3"
    },
    "language_info": {
      "name": "python"
    }
  },
  "cells": [
    {
      "cell_type": "code",
      "execution_count": 4,
      "metadata": {
        "colab": {
          "base_uri": "https://localhost:8080/"
        },
        "id": "YhxwQvy_Cd9c",
        "outputId": "395857bd-1f9a-4029-8e4c-0ed9742bba52"
      },
      "outputs": [
        {
          "output_type": "stream",
          "name": "stdout",
          "text": [
            "Think of a computer scientist and I'll try to guess it!\n",
            "/n please answer yes or no to the following question.\n"
          ]
        }
      ],
      "source": [
        "print(\"Think of a computer scientist and I'll try to guess it!\")\n",
        "print(\"/n please answer yes or no to the following question.\")"
      ]
    },
    {
      "cell_type": "code",
      "source": [
        "from os import fchown\n",
        "X = input(\"/n Is the computer scientist male?\")\n",
        "if (X == \"yes\"):\n",
        "    Y = input(\"/n Did he coin terminology?\")\n",
        "    if (Y==\"yes\"):\n",
        "      print(\"/n your scientist is John McCarthy!\")\n",
        "    else:\n",
        "      Z = input(\"/n Did he write a book\")\n",
        "      if (Z== \"yes\"):\n",
        "        print(\"/n Your scientist is Fred Brooks\")\n",
        "      else:\n",
        "        a = input(\"/n Did he invent the Difference Engine\")\n",
        "        if (a== \"yes\"):\n",
        "          print(\"/n Your scientist is Charles Babbage\")\n",
        "        else:\n",
        "          b = input(\"/n Did your scientist create the typesetting language teX\")\n",
        "          if(b== \"yes\"):\n",
        "             print(\"/n Your scientist is Donald Knuth\")\n",
        "          else:\n",
        "            c = input(\"/n Your scientist have something to do with Robotics?\")\n",
        "            if (c == \"yes\"):\n",
        "              print(\"/n your scientist is Marvin Minsky\")\n",
        "            else:\n",
        "              d = input(\"/n Did your scientist optimize compilers?\")\n",
        "              if (d == \"yes\"):\n",
        "                print(\"/n your scientist is Frances Allen\")\n",
        "              else:\n",
        "                print(\"/n your scientist is Alan Turing\")\n",
        "else:\n",
        "  e = input(\"/n Is she considered the first programmer?\")\n",
        "  if (e == \"yes\"):\n",
        "    print(\"/n your scientist is Ada Lovelace\")\n",
        "  else:\n",
        "    f = input(\"Is she a mathmetician?\")\n",
        "  if (f == \"yes\"):\n",
        "    print(\"/n Your scientist is Annie Easley\")\n",
        "  else:\n",
        "    print(\"/n Your scientist is Grace Hopper\")\n",
        "\n"
      ],
      "metadata": {
        "id": "BmBq25Q5DSHB"
      },
      "execution_count": null,
      "outputs": []
    }
  ]
}